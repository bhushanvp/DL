{
 "cells": [
  {
   "cell_type": "code",
   "execution_count": 14,
   "metadata": {},
   "outputs": [
    {
     "name": "stdout",
     "output_type": "stream",
     "text": [
      "Epoch 1/10\n",
      "99/99 [==============================] - 0s 1ms/step - loss: 0.4928\n",
      "Epoch 2/10\n",
      "99/99 [==============================] - 0s 1ms/step - loss: 0.4362\n",
      "Epoch 3/10\n",
      "99/99 [==============================] - 0s 1ms/step - loss: 0.3056\n",
      "Epoch 4/10\n",
      "99/99 [==============================] - 0s 1ms/step - loss: 0.1976\n",
      "Epoch 5/10\n",
      "99/99 [==============================] - 0s 1ms/step - loss: 0.1459\n",
      "Epoch 6/10\n",
      "99/99 [==============================] - 0s 2ms/step - loss: 0.1175\n",
      "Epoch 7/10\n",
      "99/99 [==============================] - 0s 2ms/step - loss: 0.0992\n",
      "Epoch 8/10\n",
      "99/99 [==============================] - 0s 1ms/step - loss: 0.0875\n",
      "Epoch 9/10\n",
      "99/99 [==============================] - 0s 1ms/step - loss: 0.0796\n",
      "Epoch 10/10\n",
      "99/99 [==============================] - 0s 1ms/step - loss: 0.0739\n",
      "Word Embeddings Shape: (103, 50)\n"
     ]
    }
   ],
   "source": [
    "import tensorflow as tf\n",
    "from tensorflow.keras.preprocessing.text import Tokenizer\n",
    "from tensorflow.keras.preprocessing.sequence import skipgrams\n",
    "import numpy as np\n",
    "\n",
    "# Read data from file\n",
    "file_path = \"/media/bhushan/Data/EDU/DL/Practicals/LP-IV-datasets/CBOW/CBOW.txt\"\n",
    "with open(file_path, 'r') as file:\n",
    "    document = file.read()\n",
    "\n",
    "# Data preparation\n",
    "tokenizer = Tokenizer()\n",
    "tokenizer.fit_on_texts([document])\n",
    "total_words = len(tokenizer.word_index) + 1\n",
    "\n",
    "# Generate training data\n",
    "sequences = tokenizer.texts_to_sequences([document])[0]\n",
    "X, y = skipgrams(sequences, vocabulary_size=total_words, window_size=2, negative_samples=1.0)\n",
    "\n",
    "X_word_target, X_word_context = zip(*X)\n",
    "X_word_target = np.array(X_word_target, dtype=\"int32\")\n",
    "X_word_context = np.array(X_word_context, dtype=\"int32\")\n",
    "y = np.array(y, dtype=\"int32\")\n",
    "\n",
    "# Train model\n",
    "embedding_dim = 50\n",
    "word_target_input = tf.keras.layers.Input((1,))\n",
    "word_context_input = tf.keras.layers.Input((1,))\n",
    "\n",
    "word_embedding_layer = tf.keras.layers.Embedding(total_words, embedding_dim, input_length=1)\n",
    "word_target_embedding = word_embedding_layer(word_target_input)\n",
    "word_context_embedding = word_embedding_layer(word_context_input)\n",
    "\n",
    "merged = tf.keras.layers.dot([word_target_embedding, word_context_embedding], axes=-1)\n",
    "merged = tf.keras.layers.Reshape((1,), input_shape=(1, 1))(merged)\n",
    "\n",
    "model = tf.keras.models.Model(inputs=[word_target_input, word_context_input], outputs=merged)\n",
    "model.compile(optimizer='adam', loss='mean_squared_error')\n",
    "\n",
    "model.fit([X_word_target, X_word_context], y, epochs=10, batch_size=16)\n",
    "\n",
    "# Output\n",
    "word_embeddings = model.layers[2].get_weights()[0]\n",
    "print(\"Word Embeddings Shape:\", word_embeddings.shape)\n"
   ]
  },
  {
   "cell_type": "code",
   "execution_count": 23,
   "metadata": {},
   "outputs": [
    {
     "name": "stdout",
     "output_type": "stream",
     "text": [
      "Similarity between 'virus' and 'influenza': 0.4428\n",
      "Similarity between 'spread' and 'transmission': 0.2381\n",
      "Similarity between 'virus' and 'illness': 0.0898\n"
     ]
    }
   ],
   "source": [
    "from sklearn.metrics.pairwise import cosine_similarity\n",
    "\n",
    "# Function to get word embedding\n",
    "def get_embedding(word):\n",
    "    word_index = tokenizer.word_index[word]\n",
    "    return word_embeddings[word_index]\n",
    "\n",
    "# Example similarity task\n",
    "def evaluate_similarity(word1, word2):\n",
    "    embedding1 = get_embedding(word1)\n",
    "    embedding2 = get_embedding(word2)\n",
    "    \n",
    "    # Reshape embeddings for cosine_similarity function\n",
    "    embedding1 = embedding1.reshape(1, -1)\n",
    "    embedding2 = embedding2.reshape(1, -1)\n",
    "\n",
    "    # Compute cosine similarity\n",
    "    similarity = cosine_similarity(embedding1, embedding2)[0, 0]\n",
    "    return similarity\n",
    "\n",
    "# Example evaluation\n",
    "word_pairs_to_evaluate = [(\"virus\", \"influenza\"), (\"spread\", \"transmission\"), (\"virus\", \"illness\")]\n",
    "\n",
    "for word1, word2 in word_pairs_to_evaluate:\n",
    "    similarity_score = evaluate_similarity(word1, word2)\n",
    "    print(f\"Similarity between '{word1}' and '{word2}': {similarity_score:.4f}\")\n"
   ]
  },
  {
   "cell_type": "code",
   "execution_count": null,
   "metadata": {},
   "outputs": [],
   "source": []
  }
 ],
 "metadata": {
  "kernelspec": {
   "display_name": "Python 3",
   "language": "python",
   "name": "python3"
  },
  "language_info": {
   "codemirror_mode": {
    "name": "ipython",
    "version": 3
   },
   "file_extension": ".py",
   "mimetype": "text/x-python",
   "name": "python",
   "nbconvert_exporter": "python",
   "pygments_lexer": "ipython3",
   "version": "3.8.10"
  }
 },
 "nbformat": 4,
 "nbformat_minor": 2
}
